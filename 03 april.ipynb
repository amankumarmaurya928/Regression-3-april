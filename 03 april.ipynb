{
 "cells": [
  {
   "cell_type": "code",
   "execution_count": 1,
   "metadata": {},
   "outputs": [
    {
     "data": {
      "text/plain": [
       "'Precision: The ability of a classification model to identify only the relevant data points.\\n   Recall: The ability of a model to find all the relevant cases within a data set. Mathematically, we define recall as the \\n   number of true positives divided by the number of true positives plus the number of false negatives. \\n'"
      ]
     },
     "execution_count": 1,
     "metadata": {},
     "output_type": "execute_result"
    }
   ],
   "source": [
    "# Q1\n",
    "'''Precision: The ability of a classification model to identify only the relevant data points.\n",
    "   Recall: The ability of a model to find all the relevant cases within a data set. Mathematically, we define recall as the \n",
    "   number of true positives divided by the number of true positives plus the number of false negatives. \n",
    "'''"
   ]
  },
  {
   "cell_type": "code",
   "execution_count": 2,
   "metadata": {},
   "outputs": [
    {
     "data": {
      "text/plain": [
       "'F1-Score is a measure combining both precision and recall. It is generally described as the harmonic mean of the two.\\n   Harmonic mean is just another way to calculate an \"average\" of values, generally described as more suitable for ratios \\n   (such as precision and recall) than the traditional arithmetic mean.\\n    formula: f1- score =  (1+beta^2)(Precision*Recall) / (Precision + Recall) \\nF1 score is a weighted average of precision and recall. As we know in precision and in recall there is false positive and\\nfalse negative so it also consider both of them. F1 score is usually more useful than accuracy, especially if you have an\\nuneven class distribution.\\n'"
      ]
     },
     "execution_count": 2,
     "metadata": {},
     "output_type": "execute_result"
    }
   ],
   "source": [
    "# Q2\n",
    "'''F1-Score is a measure combining both precision and recall. It is generally described as the harmonic mean of the two.\n",
    "   Harmonic mean is just another way to calculate an \"average\" of values, generally described as more suitable for ratios \n",
    "   (such as precision and recall) than the traditional arithmetic mean.\n",
    "    formula: f1- score =  (1+beta^2)(Precision*Recall) / (Precision + Recall) \n",
    "F1 score is a weighted average of precision and recall. As we know in precision and in recall there is false positive and\n",
    "false negative so it also consider both of them. F1 score is usually more useful than accuracy, especially if you have an\n",
    "uneven class distribution.\n",
    "'''"
   ]
  },
  {
   "cell_type": "code",
   "execution_count": 3,
   "metadata": {},
   "outputs": [
    {
     "data": {
      "text/plain": [
       "\"An ROC curve (receiver operating characteristic curve) is a graph showing the performance of a classification model at all\\n   classification thresholds. This curve plots two parameters: True Positive Rate. False Positive Rate.\\n   AUC is scale-invariant. It measures how well predictions are ranked, rather than their absolute values. AUC is \\n   classification-threshold-invariant. It measures the quality of the model's predictions irrespective of what classification \\n   threshold is chosen.\\n   \""
      ]
     },
     "execution_count": 3,
     "metadata": {},
     "output_type": "execute_result"
    }
   ],
   "source": [
    "# Q3\n",
    "'''An ROC curve (receiver operating characteristic curve) is a graph showing the performance of a classification model at all\n",
    "   classification thresholds. This curve plots two parameters: True Positive Rate. False Positive Rate.\n",
    "   AUC is scale-invariant. It measures how well predictions are ranked, rather than their absolute values. AUC is \n",
    "   classification-threshold-invariant. It measures the quality of the model's predictions irrespective of what classification \n",
    "   threshold is chosen.\n",
    "   '''"
   ]
  },
  {
   "cell_type": "code",
   "execution_count": 4,
   "metadata": {},
   "outputs": [
    {
     "data": {
      "text/plain": [
       "'Metrics like accuracy, precision, recall are good ways to evaluate classification models for balanced datasets, but if the\\n   data is imbalanced then other methods like ROC/AUC perform better in evaluating the model performance.\\n   Binary classification are those tasks where examples are assigned exactly one of two classes.\\n   Multi-class classification is those tasks where examples are assigned exactly one of more than two classes.1\\n   '"
      ]
     },
     "execution_count": 4,
     "metadata": {},
     "output_type": "execute_result"
    }
   ],
   "source": [
    "# Q4\n",
    "'''Metrics like accuracy, precision, recall are good ways to evaluate classification models for balanced datasets, but if the\n",
    "   data is imbalanced then other methods like ROC/AUC perform better in evaluating the model performance.\n",
    "   Binary classification are those tasks where examples are assigned exactly one of two classes.\n",
    "   Multi-class classification is those tasks where examples are assigned exactly one of more than two classes.1\n",
    "   '''"
   ]
  },
  {
   "cell_type": "code",
   "execution_count": 5,
   "metadata": {},
   "outputs": [
    {
     "data": {
      "text/plain": [
       "'Logistic regression, by default, is limited to two-class classification problems. Some extensions like one-vs-rest can \\n   allow logistic regression to be used for multi-class classification problems, although they require that the classification\\n   problem first be transformed into multiple binary classification problems.\\n   Logistic regression can be applied to solve multiclass problems. For each class, build a logistic regression to find the\\n   probability the observation belongs to that class. For each data point, predict the class with the highest probability.\\n   '"
      ]
     },
     "execution_count": 5,
     "metadata": {},
     "output_type": "execute_result"
    }
   ],
   "source": [
    "# Q5\n",
    "'''Logistic regression, by default, is limited to two-class classification problems. Some extensions like one-vs-rest can \n",
    "   allow logistic regression to be used for multi-class classification problems, although they require that the classification\n",
    "   problem first be transformed into multiple binary classification problems.\n",
    "   Logistic regression can be applied to solve multiclass problems. For each class, build a logistic regression to find the\n",
    "   probability the observation belongs to that class. For each data point, predict the class with the highest probability.\n",
    "   '''"
   ]
  },
  {
   "cell_type": "code",
   "execution_count": 6,
   "metadata": {},
   "outputs": [
    {
     "data": {
      "text/plain": [
       "'It comprises three basic steps:\\n1. feature selection,\\n2. classification model building \\n3. validation of the constructed model.\\nIn the feature selection step, it is necessary to create an optimal data subset which reduces noise and bias, thereby \\nenhancing the accuracy of classification process.\\n'"
      ]
     },
     "execution_count": 6,
     "metadata": {},
     "output_type": "execute_result"
    }
   ],
   "source": [
    "# Q6\n",
    "'''It comprises three basic steps:\n",
    "1. feature selection,\n",
    "2. classification model building \n",
    "3. validation of the constructed model.\n",
    "In the feature selection step, it is necessary to create an optimal data subset which reduces noise and bias, thereby \n",
    "enhancing the accuracy of classification process.\n",
    "'''"
   ]
  },
  {
   "cell_type": "code",
   "execution_count": 7,
   "metadata": {},
   "outputs": [
    {
     "data": {
      "text/plain": [
       "\"Model deployment is the process of putting machine learning models into production.\\n   This makes the model's predictions available to users, developers or systems, so they can make business decisions based on\\n   data, interact with their application (like recognize a face in an image) and so on.\\n A cloud deployment model represents a specific type of cloud environment, primarily distinguished by ownership, size, and \\n access. There are four common cloud deployment models: Public Clouds; Community Clouds; Private Clouds; and Hybrid Clouds.\\n \""
      ]
     },
     "execution_count": 7,
     "metadata": {},
     "output_type": "execute_result"
    }
   ],
   "source": [
    "# Q7\n",
    "'''Model deployment is the process of putting machine learning models into production.\n",
    "   This makes the model's predictions available to users, developers or systems, so they can make business decisions based on\n",
    "   data, interact with their application (like recognize a face in an image) and so on.\n",
    " A cloud deployment model represents a specific type of cloud environment, primarily distinguished by ownership, size, and \n",
    " access. There are four common cloud deployment models: Public Clouds; Community Clouds; Private Clouds; and Hybrid Clouds.\n",
    " '''"
   ]
  },
  {
   "cell_type": "code",
   "execution_count": 8,
   "metadata": {},
   "outputs": [
    {
     "data": {
      "text/plain": [
       "'A multi-cloud deployment model allows organizations to choose the specific services that work best for them. They can then\\n   maximize the resources and pay only for what gets used. It provides a reliable architecture. Using multiple CSPs creates \\n   redundancies that minimize the risk of a single point of failure.\\n   Multicloud deployments interconnect services from separate cloud environments for different purposes without having to \\n   connect the clouds. On the other hand, hybrid cloud deployments typically combine a private computing environment \\n   (on-premises IT infrastructure or a private cloud) and a public computing environment.\\n   '"
      ]
     },
     "execution_count": 8,
     "metadata": {},
     "output_type": "execute_result"
    }
   ],
   "source": [
    "# Q8\n",
    "'''A multi-cloud deployment model allows organizations to choose the specific services that work best for them. They can then\n",
    "   maximize the resources and pay only for what gets used. It provides a reliable architecture. Using multiple CSPs creates \n",
    "   redundancies that minimize the risk of a single point of failure.\n",
    "   Multicloud deployments interconnect services from separate cloud environments for different purposes without having to \n",
    "   connect the clouds. On the other hand, hybrid cloud deployments typically combine a private computing environment \n",
    "   (on-premises IT infrastructure or a private cloud) and a public computing environment.\n",
    "   '''"
   ]
  },
  {
   "cell_type": "code",
   "execution_count": 9,
   "metadata": {},
   "outputs": [
    {
     "data": {
      "text/plain": [
       "'Benefits of Multicloud:\\n   Multicloud allows you to choose from many cloud vendors and provides the flexibility to match specific features and \\n   capabilities to optimize your workloads in the cloud based on factors like speed, performance, reliability, geographical \\n   location, and security and compliance requirements.\\n   \\n   The challenges of Multi-cloud:\\n   More Clouds, More Complexity. The decision to expand from a single provider naturally brings increased complexity. \\n   Multiple Specialist Skilled Teams Needed. \\n   Harder-to-manage Costs. \\n   Increased Security Concerns.\\n   '"
      ]
     },
     "execution_count": 9,
     "metadata": {},
     "output_type": "execute_result"
    }
   ],
   "source": [
    "# Q9\n",
    "'''Benefits of Multicloud:\n",
    "   Multicloud allows you to choose from many cloud vendors and provides the flexibility to match specific features and \n",
    "   capabilities to optimize your workloads in the cloud based on factors like speed, performance, reliability, geographical \n",
    "   location, and security and compliance requirements.\n",
    "   \n",
    "   The challenges of Multi-cloud:\n",
    "   More Clouds, More Complexity. The decision to expand from a single provider naturally brings increased complexity. \n",
    "   Multiple Specialist Skilled Teams Needed. \n",
    "   Harder-to-manage Costs. \n",
    "   Increased Security Concerns.\n",
    "   '''"
   ]
  },
  {
   "cell_type": "code",
   "execution_count": null,
   "metadata": {},
   "outputs": [],
   "source": []
  }
 ],
 "metadata": {
  "kernelspec": {
   "display_name": "Python 3 (ipykernel)",
   "language": "python",
   "name": "python3"
  },
  "language_info": {
   "codemirror_mode": {
    "name": "ipython",
    "version": 3
   },
   "file_extension": ".py",
   "mimetype": "text/x-python",
   "name": "python",
   "nbconvert_exporter": "python",
   "pygments_lexer": "ipython3",
   "version": "3.10.8"
  }
 },
 "nbformat": 4,
 "nbformat_minor": 4
}
